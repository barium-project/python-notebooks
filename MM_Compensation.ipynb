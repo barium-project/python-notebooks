{
 "cells": [
  {
   "cell_type": "markdown",
   "metadata": {},
   "source": [
    "We want to start thinking about how to correct for excess micromotion caused by stray DC fields. Haeffner group used a tickle at $\\Omega_{rf} + \\omega_s$ to move the ion with 50 nm of the null. Still looking to why this frequency instead of directly at the secular frequency. This frquency comes from keeping the next order in the Mathieu solutions.\n",
    "\n",
    "Our first attempt gives optimal compensation with 0.6 V and 0.67 V on the RF rods, and 50 V on the endcaps. I want to make sure the a-parameter hasn't changed the secular frequency to a point where the tickle is too far from resonance to perturb the ion. We know that the secular frequency of a radial mode is given by:\n",
    "\n",
    "$\\Large \\omega_\\mathrm{s} = \\beta\\frac{\\Omega_\\mathrm{rf}}{2}$\n",
    "\n",
    "with\n",
    "\n",
    "$\\Large \\beta \\approx \\sqrt{a + \\frac{q^2}{2}}$\n",
    "\n",
    "The Mathiue $a$ and $q$ parameters for our 4-rod trap are given by:\n",
    "\n",
    "$\\Large a_x =  -\\left(\\frac{8eU_{\\mathrm{EC}}}{m\\omega_{\\mathrm{rf}}^2z_0^2} -\\frac{4eU_0}{m\\omega_{\\mathrm{rf}}^2r_0^2}\\right)$\n",
    "\n",
    "$\\Large a_y = - \\left(\\frac{8eU_{\\mathrm{EC}}}{m\\omega_{\\mathrm{rf}}^2z_0^2} + \\frac{4eU_0}{m\\omega_{\\mathrm{rf}}^2r_0^2}\\right)$\n",
    "\n",
    "$\\Large q_x = \\frac{2eV_0}{m\\omega_{\\mathrm{rf}}^2r_0^2} = -q_y$\n",
    "\n",
    "Since there is no RF applied in the z-direction, endcap voltages provide a static 1D harmonic osicllator trapping potential with secular frequency:\n",
    "\n",
    "$\\Large \\omega_z = 2\\sqrt{\\frac{eU_{\\mathrm{EC}}}{mz_0^2}}$\n",
    "\n",
    "with $z_0$ a characteristic distance defining an ideal static quadrupole in 3D, with $r_0$ being the other characterstic distance. Since we've measured the axial secular frequency at a given endcap voltage, we can calculate $z_0$, and therefore estimate $a_x$ and $a_y$ to determine how much we expect our secular frequency to shift for a given DC voltage on the trap rods."
   ]
  },
  {
   "cell_type": "code",
   "execution_count": 4,
   "metadata": {},
   "outputs": [
    {
     "name": "stdout",
     "output_type": "stream",
     "text": [
      "Characterstiz z : 22.18 mm\n",
      "ax : -0.000\n",
      "ay : -0.000\n",
      "qx : 0.787\n",
      "beta x : 0.556\n",
      "beta y : 0.556\n",
      "omega x : 278.219 kHz\n",
      "omega y : 278.219 kHz\n"
     ]
    }
   ],
   "source": [
    "omega_rf = 2*np.pi*1.e6\n",
    "U_dc = 0.0\n",
    "U_ec = 1.0\n",
    "r_0 = 3.0e-3\n",
    "charge = 1.602e-19\n",
    "m = 138*1.66e-27\n",
    "V_rf = 200.0\n",
    "omega_z = 2*np.pi*12.e3\n",
    "\n",
    "\n",
    "# First calculate characteristic z0\n",
    "\n",
    "z_0 = np.sqrt(charge*U_ec/m)*2/omega_z\n",
    "\n",
    "print 'Characterstiz z :', '{:.2f}'.format(z_0*1e3), 'mm'\n",
    "\n",
    "ax = -(8*charge*U_ec/m/omega_rf**2/z_0**2 - 4*charge*U_dc/m/omega_rf**2/r_0**2 )\n",
    "ay = -(8*charge*U_ec/m/omega_rf**2/z_0**2 + 4*charge*U_dc/m/omega_rf**2/r_0**2 )\n",
    "qx = 2*charge*V_rf/m/omega_rf**2/r_0**2\n",
    "\n",
    "print 'ax :', '{:.3f}'.format(ax)\n",
    "print 'ay :', '{:.3f}'.format(ay)\n",
    "print 'qx :', '{:.3f}'.format(qx)\n",
    "\n",
    "## Now we can calculate our secular frequencies\n",
    "bx = np.sqrt(ax + qx**2/2)\n",
    "by  = np.sqrt(ay + qx**2/2)\n",
    "\n",
    "print 'beta x :', '{:.3f}'.format(bx)\n",
    "print 'beta y :', '{:.3f}'.format(by)\n",
    "\n",
    "\n",
    "omega_x = omega_rf*bx/2/2/np.pi\n",
    "omega_y = omega_rf*by/2/2/np.pi\n",
    "\n",
    "print 'omega x :', '{:.3f}'.format(omega_x*1e-3), 'kHz'\n",
    "print 'omega y :', '{:.3f}'.format(omega_y*1e-3), 'kHz'"
   ]
  },
  {
   "cell_type": "markdown",
   "metadata": {},
   "source": [
    "### Barium Line Scan\n",
    "\n",
    "We want to do our standard pump/probe line scan to see if our micromotion compensation reduces the temperature. Using the three-level notes/code from my thesis.\n",
    "\n",
    "Population of the excited state:\n",
    "\n",
    "\\begin{equation}\n",
    "\\label{eq:population_cpt}\n",
    "\\rho_{33} = \\frac{4(\\Delta_B - \\Delta_R)^2\\Omega_B^2\\Omega_R^2\\Gamma}{Z}    \n",
    "\\end{equation}\n",
    "with $Z$ given by:\n",
    "\\begin{equation}\n",
    "\\begin{split}\n",
    "&Z = 8(\\Delta_B - \\Delta_R)^2\\Omega_B^2\\Omega_R^2\\Gamma\\\\\n",
    "& + 4(\\Delta_B - \\Delta_R)^2\\Gamma^2(\\Omega_B^2\\Gamma_R + \\Omega_R^2\\Gamma_B) \\\\\n",
    "& + 16(\\Delta_B - \\Delta_R)^2[\\Delta_B^2\\Omega_R^2\\Gamma_B + \\Delta_R^2\\Omega_B^2\\Gamma_R]\\\\\n",
    "& - 8\\Delta_B(\\Delta_B - \\Delta_R)\\Omega_R^4\\Gamma_B + 8\\Delta_R(\\Delta_B - \\Delta_R)\\Omega_B^4\\Gamma_R\\\\\n",
    "& + (\\Omega_B^2 + \\Omega_R^2)(\\Omega_B^2\\Gamma_R + \\Omega_R^2\\Gamma_B)\n",
    "\\end{split}\n",
    "\\end{equation}"
   ]
  },
  {
   "cell_type": "code",
   "execution_count": 86,
   "metadata": {
    "scrolled": false
   },
   "outputs": [
    {
     "name": "stdout",
     "output_type": "stream",
     "text": [
      "-188495559.215\n",
      "[2.45274236e+01 8.04185060e+07 5.33800816e+05 5.58117162e+02]\n"
     ]
    },
    {
     "data": {
      "image/png": "[encoded data removed]",
      "text/plain": [
       "<Figure size 1080x1080 with 1 Axes>"
      ]
     },
     "metadata": {
      "needs_background": "light"
     },
     "output_type": "display_data"
    }
   ],
   "source": [
    "# Definitions\n",
    "rcParams['figure.figsize'] = 15, 15\n",
    "rcParams['axes.linewidth'] = 4\n",
    "from scipy.optimize import curve_fit\n",
    "gamma_b = 2*np.pi*15.2e6\n",
    "gamma_r = 2*np.pi*4.9e6\n",
    "gamma = gamma_b + gamma_r\n",
    "#s_b = 10.\n",
    "#s_r = 10.\n",
    "omega_b = gamma*np.sqrt(s_b/2)\n",
    "omega_r = gamma*np.sqrt(s_r/2)\n",
    "#delta_b = 2*np.pi*25.e6\n",
    "delta_r = -2*np.pi*30.e6\n",
    "\n",
    "data = np.loadtxt('Z:/Group_Share/Barium/Data/2020.dir/08.dir/2020_08_13.dir/00015 - ProbeLineScan.csv', delimiter = ',')\n",
    "frequency = data[:,0] \n",
    "counts = data[:,1]\n",
    "#delta_b = np.linspace(-2*np.pi*100.e6, 2*np.pi*100.e6, 1.e3)\n",
    "\n",
    "def population(freq, f0, s_b, s_r, A, C):\n",
    "    \n",
    "    delta_b = (freq - f0)*1e6*2*np.pi\n",
    "    delta_r = 2*np.pi*30.e6\n",
    "    omega_b = gamma*np.sqrt(s_b/2)\n",
    "    omega_r = gamma*np.sqrt(s_r/2)\n",
    "    num = 4*(delta_b - delta_r)**2*omega_b**2*omega_r**2*gamma\n",
    "\n",
    "    Z = 8*(delta_b-delta_r)**2*omega_b**2*omega_r**2*gamma \\\n",
    "        + 4*(delta_b - delta_r)**2*gamma**2*(omega_b**2*gamma_r + omega_r**2*gamma_b) \\\n",
    "        + 16*(delta_b - delta_r)**2*(delta_b**2*omega_r**2*gamma_b + delta_r**2*omega_b**2*gamma_r) \\\n",
    "        - 8*delta_b*(delta_b - delta_r)*omega_r**4*gamma_b + 8*delta_r*(delta_b - delta_r)*omega_b**4*gamma_r \\\n",
    "        + (omega_b**2 + omega_r**2)**2*(omega_b**2*gamma_r + omega_r**2*gamma_b)\n",
    "\n",
    "    return A*num/Z + C\n",
    "\n",
    "print delta_r\n",
    "p0 = [3020., .02, .08 ,200000, 350]\n",
    "\n",
    "# Fit\n",
    "#fit, var = curve_fit(population, frequency, counts, p0)\n",
    "print fit\n",
    "fit_x = np.linspace(frequency[0], frequency[-1], 1000)\n",
    "\n",
    "fit_y = population(fit_x, 3020., .001,.3, 200000, 350)\n",
    "#fit_y = population(fit_x, fit[0], fit[1], fit[2], fit[3], fit[4])\n",
    "\n",
    "\n",
    "plot(frequency, counts, 'o')\n",
    "plot(fit_x, fit_y, color = 'red', linewidth = 2)\n",
    "#label(r'Detuning (MHz)', fontsize = 35)\n",
    "ylabel(r'Population', fontsize = 35)\n",
    "xticks(size=25)\n",
    "yticks(size=25)\n",
    "show() \n"
   ]
  },
  {
   "cell_type": "code",
   "execution_count": null,
   "metadata": {},
   "outputs": [],
   "source": []
  },
  {
   "cell_type": "code",
   "execution_count": null,
   "metadata": {},
   "outputs": [],
   "source": []
  }
 ],
 "metadata": {
  "kernelspec": {
   "display_name": "Python 2",
   "language": "python",
   "name": "python2"
  },
  "language_info": {
   "codemirror_mode": {
    "name": "ipython",
    "version": 2
   },
   "file_extension": ".py",
   "mimetype": "text/x-python",
   "name": "python",
   "nbconvert_exporter": "python",
   "pygments_lexer": "ipython2",
   "version": "2.7.16"
  }
 },
 "nbformat": 4,
 "nbformat_minor": 2
}
