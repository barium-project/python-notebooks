{
 "cells": [
  {
   "cell_type": "markdown",
   "metadata": {},
   "source": [
    "### Some notes for investigating our ability to fiber couple a few watts average power of pulsed laser light at 532nm from the Paladan laser in the Hamilton lab."
   ]
  },
  {
   "cell_type": "markdown",
   "metadata": {},
   "source": [
    "### General Considerations\n",
    "\n",
    "There are three regimes in which to consider damage thresholds:\n",
    "\n",
    "For pulses longer than 1us, only thermal effects need to be considered. Here inperfections in the fused silica absorb energy, causing heating and either melting or fracturing of the glass. In addition if fiber coupling efficiency is poor then energy is dissipated in the cladding, and the heating causes the glue at the fiber/connector interface to outgas. \n",
    "\n",
    "For pulses shorter than 10ps, multiphoton photoionization, stimulated Brillouin scattering, or stimulated Raman scattering cause damage.\n",
    "\n",
    "\n",
    "Costal Connection rates their fibers to $\\frac{1.5\\times10^7W}{cm^2}$ for CW power in the fiber, and sepcial fiber end caps at $\\frac{2.5\\times10^6W}{cm^2}$ with no specs for pulsed lasers.\n",
    "\n",
    "For pulser between 1us and 10ps, dielectric breakdown i.e. an electron avalanche causes damage. If the electron density becomes high enough the plasma frequency is near the optical frequency of the laser, and the incoming energy is absorbed within 1um. A simple rate model is used to characterize the process. \n",
    "    \n",
    "<img src=\"rate_eq.png\">\n",
    "\n",
    "Most of the time damage thresholds are measured at a particular wavelength and pulse duration, and scaled for other systems. There seems to be debate whether the damage threshold scales linearly, or with the square root of pulse duration. Two damage threshold numbers found for 1064nm light at 1ns [Fiberguide ind app note] and 15ps [Smith 2] are essentially the same so.... $\\frac{20J}{cm^2}$. Only fiberguide industries makes a reference to wavelength scaling and claim it is linear with higher damage at shorter wavelength. Using this threshold the maximum peak intensity is:\n",
    "\n",
    "$\\frac{20J}{cm^2}\\frac{1}{10ps} = \\frac{2\\times10^{12}W}{cm^2}$\n",
    "\n",
    "The dielectric breakdown of fused silica is 20MV/m. Taking this damage threshold and finding the magnitude of the electric field:\n",
    "\n",
    "$E = \\sqrt{\\frac{I}{c\\epsilon_0}} = \\sqrt{\\frac{2\\times10^{16}}{c\\epsilon_0}} = 2 \\times 10^9 V/m$\n",
    "\n",
    "\n",
    "This number is ~100 times greater than the bulk damage threshold. Using this damage threshold and assuming approximately 10ps duration, the maximum average CW power for our 10ps pulsed laser at 532nm:\n",
    "\n",
    "$\\frac{20J}{cm^2}\\frac{1}{2}\\pi (3\\times 10^{-4}cm)^2 * 2\\times 10^7 = 56$W\n",
    "\n",
    "If I use the Fiberguide industries numbers (upper bound) and assume the square root dependence on pulse duration as they do, the number is 6W max, if I assume linear dependence on pulse duration, I get .6W.\n",
    "\n",
    "The factor of 1/2 is for the wavelength correction 1064/532 = 2, 20MHz rep rate, and 6um diameter core fiber. While this indicates that pulsed effects won't damage the fiber, we are still limited by the CW limits of $\\frac{1.5\\times10^7W}{cm^2}$ in the fiber, and $\\frac{2.5\\times10^6W}{cm^2}$ using the specialized fiber end cap. This limits us to:\n",
    "\n",
    "$\\frac{2.5\\times10^6W}{cm^2}\\pi (3\\times 10^{-4}cm)^2 = .7$W"
   ]
  },
  {
   "cell_type": "markdown",
   "metadata": {},
   "source": [
    "### Large Mode Area Photonic Crystal Fiber"
   ]
  },
  {
   "cell_type": "markdown",
   "metadata": {},
   "source": [
    "Two types of photonic crystal fibers. \n",
    "\n",
    "1. Large mode field diameter, or endlessly single mode, these fibers have a triangular pattern of air holes that run throughout the fiber except for the very center. Roughly work on same principle of normal fibers. TIR from higher to lower index of refraction in the air holes.\n",
    "\n",
    "2. Hollow core fibers. Works on principle different then TIR, Bragg reflection, where core can have lower index then cladding. Fiber has hollow core, and then alternating index of refraction radially (air holes and glass). The rings of changing index are constant along the fiber. The propogation of the transverse modes undergoes Bragg reflection, and for the right spacing and index the mode constructively interferes at the core. Inherently lossly. 1dB/m NKT.\n",
    "\n",
    "NKT Photonics\n",
    "\n",
    "LMA-15. MFD = 12.5um, NA = .03, and low loss 30dB/km. If we assume the same damage thresholds, then all the powers are increased by a factor of 4.\n",
    "\n",
    "Chris from NKT photonics called. Says they sold Dan Stamper-Kurn a aeroGUIDE-10, which is the LMA-10 8um core, and he is using it for 10W of 532nm. 2k for a 5m fiber.\n"
   ]
  },
  {
   "cell_type": "markdown",
   "metadata": {},
   "source": [
    "### 4/17/18\n",
    "\n",
    "I got a response from Masayuki, a graduate student in Stamper-Kurns lab. He said they hadn't installe the fiber in their system, but they tested it at 2W. Waiting for a response to some questions I asked."
   ]
  },
  {
   "cell_type": "code",
   "execution_count": null,
   "metadata": {
    "collapsed": true
   },
   "outputs": [],
   "source": []
  }
 ],
 "metadata": {
  "anaconda-cloud": {},
  "kernelspec": {
   "display_name": "Python [Root]",
   "language": "python",
   "name": "Python [Root]"
  },
  "language_info": {
   "codemirror_mode": {
    "name": "ipython",
    "version": 2
   },
   "file_extension": ".py",
   "mimetype": "text/x-python",
   "name": "python",
   "nbconvert_exporter": "python",
   "pygments_lexer": "ipython2",
   "version": "2.7.12"
  }
 },
 "nbformat": 4,
 "nbformat_minor": 0
}
