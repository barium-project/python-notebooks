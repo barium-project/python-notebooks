{
 "cells": [
  {
   "cell_type": "markdown",
   "metadata": {},
   "source": [
    "# Cavity Baiscs"
   ]
  },
  {
   "cell_type": "markdown",
   "metadata": {},
   "source": [
    "## Stability\n",
    "\n",
    "We use ABCD matrix formalism to describe a ray passing through and optical element.\n",
    "\n",
    "$\\begin{pmatrix} r_2 \\\\ r^{'}_2\\end{pmatrix} = \\begin{pmatrix} A & B \\\\ C & D\\end{pmatrix} \\begin{pmatrix}r_1\\\\r^{'}_1\\end{pmatrix}$\n",
    "\n",
    "\n",
    "Given that the index of refraction is the same at the entrance an exit plane, the determinant of the coefficiencts is equal to one:\n",
    "\n",
    "$ AD - BC = 1$\n",
    "\n",
    "Matrices we need are (1) free space propagation of a distance $d$:\n",
    "\n",
    "$T_{fs}(d) = \\begin{bmatrix}1 & d\\\\ 0 & 1 \\end{bmatrix}$\n",
    "\n",
    "(2) trasmission through a thin lens:\n",
    "\n",
    "$T_{l}(f) = \\begin{bmatrix} 1 & 0 \\\\ -\\frac{1}{f} & 1 \\end{bmatrix}$\n",
    "\n",
    "with $f$ given by the lens focal length, and (3) a mirror:\n",
    "\n",
    "$T_{m}(R) = \\begin{bmatrix} 1 & 0 \\\\ -\\frac{2}{R} & 1 \\end{bmatrix}$\n",
    "\n",
    "where we now have the radius of curvature $R = 2f$ in place of the focal length. When applying these matrices to an imput array remember they multiply in revers order, that is the first matrix to act on the ray should be the first optical element the ray sees.\n",
    "\n",
    "\n",
    "\n",
    "To analyze the stability of a proposed cavity, we first need to determine the unit cell transmission matrix, that is the transmission matrix for one complete round trip of the ray. For a simple cavity with two concave mirrors M1/M2 with radius of curvaturs (ROCs) R1/R2, separated by a distance d, we have:\n",
    "\n",
    "$T =  T_{m}(R1)T_{fs}(d)T_{m}(R_2)T_{fs}(d) = \\begin{bmatrix} 1 - \\frac{d}{f_2} & d + d\\left(1-\\frac{d}{f_2}\\right)\\\\ -\\frac{1}{f_1} -\\frac{1}{f_2}\\left(1-\\frac{d}{f_1}\\right) & \\left(1-\\frac{d}{f_2}\\right) - \\frac{d}{f1}\\end{bmatrix}$\n",
    "\n",
    "This assumes that M1 is to the left of M2, and that the ray starts just to the right of M1.\n",
    "\n",
    "Using the subscript \"n\" to indicate the n-th round trip, we have:\n",
    "\n",
    "$r_{n+1} = Ar_n + Br^{'}_n$\n",
    "\n",
    "and \n",
    "\n",
    "$r^{'}_{n+1} = Cr_n + Dr^{'}_n$.\n",
    "\n",
    "Combinging terms and using our knowledge that the determinant of the unit cell matrix is 1, we get for any cavity (see Verdeyen):\n",
    "\n",
    "$r_{n+2} - 2\\left(\\frac{A+D}{2}\\right)r_{n+1} + r_n = 0$.\n",
    "\n",
    "We guess a solution of the form:\n",
    "\n",
    "$r_n = r_0e^{in\\theta}$,\n",
    "\n",
    "giving:\n",
    "\n",
    "$r_0e^{i2\\theta}\\left[e^{2n\\theta} - 2\\left(\\frac{A+D}{2}\\right)e^{i\\theta} + 1 \\right] = 0$.\n",
    "\n",
    "$r_0$ is determined by initial conditions and cannot be zero, the exponential is complex and also not zero, therefore the term in square brackets must be zero. This is just a quadradic equation of the exponential, with solution given by:\n",
    "\n",
    "$e^{i\\theta} = \\frac{A+D}{2} \\pm i\\left[1 - \\left(\\frac{A+D}{2}\\right)^2\\right]^{1/2}$\n",
    "\n",
    "If $A$ and $D$ are real (which they are), the term under the square root is positive (real), the general solution is given by the sum of our two solutions which are complex conjugates of each other, which must be the case for $r$ to be real. For a bounded solution we them must have:\n",
    "\n",
    "$ -1 \\leq \\left(\\frac{A+D}{2}\\right) \\leq 1$\n",
    "\n",
    "or \n",
    "\n",
    "$ 0 \\leq \\left(\\frac{A+D + 2}{4}\\right) \\leq 1$\n",
    "\n",
    "and substituing the values of our transmission matrix for A and D:\n",
    "\n",
    "$ 0 \\leq \\left(1-\\frac{d}{2f_1}\\right)\\left(1-\\frac{d}{2f_2}\\right) \\leq 1$"
   ]
  },
  {
   "cell_type": "markdown",
   "metadata": {},
   "source": [
    "## Resonance\n",
    "\n",
    "Here we want to determine the resonance condition, as well as derive the transmission function of the cavity. We need to include the fact that losses occur during transmission through the mirror substrate and upon each reflection from the mirror coating.\n",
    "\n",
    "We start with a cavity consisting of two flat mirrors, M1 and M2, separated by a distance $d$. After entering the cavity, light bounces back and forth between the two mirrors forming a standing wave. At each bounce, the fraction of the electric field amplitude transmitted is given by $t$, and the fraction reflected given by $r$. In addition, we define two loss parameters, $\\alpha_t$ and $\\alpha_b$, which define the reduction in electric field amplitude due to losses. The transmitted amplitude at each interface is then given by:\n",
    "\n",
    "$\\large E_t = t\\alpha_tE$,\n",
    "\n",
    "and the reflected amplitude given by:\n",
    "\n",
    "$\\large E_r = r\\alpha_rE$.\n",
    "\n",
    "We now write down an equation for the amplitude of the electric field inside the cavity, just inside the right mirror M2 (we ignore the time dependence of the electric field for now since we know we're forming a standing wave). First, light entering the cavity is incident on the left mirror, and travels a distance d to the right side of the cavity. The electric field is given by:\n",
    "\n",
    "$\\large E = t\\alpha_tE_0e^{ikd}$,\n",
    "\n",
    "with $E_0$ the incident electric field amplitude. The light now bounces off M2, travels a distance $d$, bounces off M1, and travels back a distance $d$ to where it started. The electric field amplitude is now given by:\n",
    "\n",
    "$\\large E = (t\\alpha_tE_0e^{ikd}) + (t\\alpha_tE_0e^{ikd})(r_1 \\alpha_b r_2 \\alpha_b) e^{ik2d}$\n",
    "\n",
    "where we have assume the loss parameter $\\alpha_b$ is the same for both mirrors. The light then repeats another round trip, and the amplitude becomes:\n",
    "\n",
    "$\\large E = (t\\alpha_tE_0e^{ikd}) + (t\\alpha_tE_0e^{ikd})(r_1 \\alpha_b r_2 \\alpha_b) e^{ik2d} + (t\\alpha_tE_0e^{ikd})(r_1 \\alpha_b r_2)^2 \\alpha_b e^{ik4d}$\n",
    "\n",
    "The light bounces back and forth an infinite number of times, and if we factor out the initial transmission and propogation to the right side of the cavity, we can write the electric field as:\n",
    "\n",
    "$\\large E = (t\\alpha_tE_0e^{ikd})\\left[ \\sum\\limits_{n=0}^{\\infty}\\left(r_1r_2\\alpha_b^2e^{ik2d}\\right)^n\\right]$\n",
    "\n",
    "The summation in square brackets is just a converging geometric series, giving:\n",
    "\n",
    "$\\large E = (t\\alpha_tE_0e^{ikd})\\left[\\frac{1}{1-(r_1r_2\\alpha_b^2)\\left(e^{ik2d}\\right)}\\right]$\n",
    "\n",
    "Finally the light exits the cavity through the right mirror (M2), and the amplitude reduced once more by the transmission and loss. Dividing by the initial electric field amplitude we have:\n",
    "\n",
    "$\\Large \\frac{E}{E_0} = \\frac{(t\\alpha_t)^2e^{ikd}} {1-(r_1r_2\\alpha_b^2)\\left(e^{ik2d}\\right)}$\n",
    "\n",
    "We're typically more interested in the power or intensity transmitted since that's what we measure in the lab. The intensity is proportional to the square of the electric field:\n",
    "\n",
    "$I \\propto E^*E$.\n",
    "\n",
    "After a little bit of algebra we get an expression for the fraction of intensity transmitted through the cavity:\n",
    "\n",
    "$\\Large \\mathcal{T} = \\left|\\frac{E}{E_0}\\right|^2 = \\frac{T^2(1-\\epsilon_t)^2}{\\left(1-\\sqrt{R_1R_2}(1-\\epsilon_b)\\right)^2 + 4\\sqrt{R_1R_2}(1-\\epsilon_b)\\sin^2(kd)}$\n",
    "\n",
    "where we have used the fact that at each bounce the transmitted power is given by:\n",
    "\n",
    "$\\large T = t^2$, \n",
    "\n",
    "the reflected power given by:\n",
    "\n",
    "$\\large R = r^2$ \n",
    "\n",
    "and the power lost at each transmission or relflection given by the parameter $\\large \\epsilon$, and are related to the previously defined loss parameters by:\n",
    "\n",
    "$\\large \\epsilon_{t/b} = 1-\\alpha_{t/b}^2$.\n",
    "\n",
    "## Linewidth\n",
    "\n",
    "Now that we have the transmission function we can derive and expression for the cavity linewidth as a function of $\\theta = kd$. The transmission is maximized when $\\sin^2(kd) = 0$, so we we set the transmission equation to one half this value:\n",
    "\n",
    "$\\Large \\frac{T^2(1-\\epsilon_t)^2}{\\left(1-\\sqrt{R_1R_2}(1-\\epsilon_b)\\right)^2 + 4\\sqrt{R_1R_2}(1-\\epsilon_b)\\sin^2\\theta} = \\frac{1}{2}\\frac{T^2(1-\\epsilon_t)^2}{\\left(1-\\sqrt{R_1R_2}(1-\\epsilon_b)\\right)^2}$\n",
    "\n",
    "Rearranging we get:\n",
    "\n",
    "$\\Large \\sin^2\\theta = \\frac{ \\left[1 - \\sqrt{R_1R_1}(1-\\epsilon_b)\\right]^2}{4\\sqrt{R_1R_2}(1-\\epsilon_b)}$\n",
    "\n",
    "If we assume reasonably high reflectivity mirrors, the right-hand side of the equation is a small number, and we can use $\\sin^2\\theta \\approx \\theta^2$.\n",
    "\n",
    "$\\Large \\theta = kd \\approx \\frac{ \\left[1 - \\sqrt{R_1R_1}(1-\\epsilon_b)\\right]}{2(R_1R_2)^{1/4}(1-\\epsilon_b)^{1/2}}$\n",
    "\n",
    "Substituting in $k = 2\\pi\\nu/c$, we get the frequency at which the transmission decreases by half:\n",
    "\n",
    "$\\Large \\nu \\approx \\frac{c}{2\\pi d}\\frac{ \\left[1 - \\sqrt{R_1R_1}(1-\\epsilon_b)\\right]}{2(R_1R_2)^{1/4}(1-\\epsilon_b)^{1/2}}$\n",
    "\n",
    "To get the FWHM we just multiply by 2:\n",
    "\n",
    "\n",
    "$\\Large \\Delta\\nu_{1/2} \\approx \\frac{c}{2d}\\frac{ \\left[1 - \\sqrt{R_1R_1}(1-\\epsilon_b)\\right]}{\\pi(R_1R_2)^{1/4}(1-\\epsilon_b)^{1/2}}$\n",
    "\n",
    "We see that the first factor is just the free spectral range (FSR), leading to the natural definition of the Finesse:\n",
    "\n",
    "$\\Large F = \\frac{FSR}{\\Delta\\nu_{1/2}} = \\frac{\\pi(R_1R_2)^{1/4}(1-\\epsilon_b)^{1/2}} {\\left[1 - \\sqrt{R_1R_1}(1-\\epsilon_b)\\right]}$\n"
   ]
  },
  {
   "cell_type": "markdown",
   "metadata": {},
   "source": [
    " "
   ]
  },
  {
   "cell_type": "markdown",
   "metadata": {},
   "source": [
    "### 1762 nm Scanning Cavity\n",
    "\n",
    "We need a little scanning cavity to check EOM sidebands and confirm the laser is single mode before trying to lock the SLS cavity. This should not be anything super narrow, just easy to couple and see sidebands. \n",
    "\n",
    "Given we want to see ~1 GHz frequency sidebands from the EOM, and the fact that the FSR of the 1762 nm is also of order GHz, a 10 MHz ish linedwidth cavity should be fine (I think). I'll look at the transmission as a function of frequency and cavity length to get an idea."
   ]
  },
  {
   "cell_type": "code",
   "execution_count": 12,
   "metadata": {},
   "outputs": [
    {
     "name": "stdout",
     "output_type": "stream",
     "text": [
      "('Stability parameter: ', '0.0')\n",
      "('linewidth : ', '1.6 MHz')\n",
      "('FSR : ', '1.0 GHz')\n"
     ]
    },
    {
     "data": {
      "image/png": "[encoded data removed]",
      "text/plain": [
       "<Figure size 1080x1080 with 1 Axes>"
      ]
     },
     "metadata": {
      "needs_background": "light"
     },
     "output_type": "display_data"
    }
   ],
   "source": [
    "import numpy as np\n",
    "from pylab import *\n",
    "R1 = .995\n",
    "R2 = .995\n",
    "f1 = .075\n",
    "f2 = .075\n",
    "n = 1.0007\n",
    "d = .150\n",
    "c = 2.99792458e8\n",
    "epsilon = .9\n",
    "\n",
    "# stability\n",
    "\n",
    "stability = (1- d/2/f1)*(1-d/2/f2)\n",
    "\n",
    "print('Stability parameter: ', '{:.1f}'.format(stability))\n",
    "\n",
    "\n",
    "line_width = c/2/n/d*(1-np.sqrt(R1*R2))/np.pi/(R1*R2)**(.25)\n",
    "\n",
    "print('linewidth : ', '{:.1f}'.format(line_width/1e6) + ' MHz')\n",
    "fsr = c/2/d\n",
    "print('FSR : ', '{:.1f}'.format(fsr/1.e9) + ' GHz')\n",
    "\n",
    "lam = 1761.69e-9\n",
    "theta = np.linspace(-np.pi/2.,np.pi/2,10000) # (4*np.pi*d/lam)\n",
    "## Transmission coefficient Itrans/I0\n",
    "T = (1-epsilon)**2*(1-R1)*(1-R2)/((1-np.sqrt(R1*R2))**2 + 2*np.sqrt(R1*R2)*np.sin(theta)**2)\n",
    " \n",
    "plot(theta, T)\n",
    "xlim([-.1,.1])\n",
    "show()\n"
   ]
  },
  {
   "cell_type": "markdown",
   "metadata": {},
   "source": []
  },
  {
   "cell_type": "code",
   "execution_count": null,
   "metadata": {
    "collapsed": true
   },
   "outputs": [],
   "source": []
  },
  {
   "cell_type": "code",
   "execution_count": null,
   "metadata": {
    "collapsed": true
   },
   "outputs": [],
   "source": []
  }
 ],
 "metadata": {
  "anaconda-cloud": {},
  "kernelspec": {
   "display_name": "Python 2",
   "language": "python",
   "name": "python2"
  },
  "language_info": {
   "codemirror_mode": {
    "name": "ipython",
    "version": 2
   },
   "file_extension": ".py",
   "mimetype": "text/x-python",
   "name": "python",
   "nbconvert_exporter": "python",
   "pygments_lexer": "ipython2",
   "version": "2.7.16"
  }
 },
 "nbformat": 4,
 "nbformat_minor": 1
}
