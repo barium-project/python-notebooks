{
 "cells": [
  {
   "cell_type": "markdown",
   "metadata": {},
   "source": [
    "### 12/7/15"
   ]
  },
  {
   "cell_type": "markdown",
   "metadata": {},
   "source": [
    "## Barium Source Caclulations"
   ]
  },
  {
   "cell_type": "markdown",
   "metadata": {},
   "source": [
    "Need to calculate how much barium-133 we think we need to impregnate on a platinum wire, and how much activity that is."
   ]
  },
  {
   "cell_type": "markdown",
   "metadata": {},
   "source": [
    "### Barium Isotopes and Relative Abundance\n",
    "\n",
    "Mass | Abundance \n",
    "- | -\n",
    "Ba-138 | .71698 \n",
    "Ba-137 | .11232\n",
    "Ba-136 |.07854\n",
    "Ba-135 |.06592\n",
    "Ba-134 |.02417\n",
    "Ba-132 |.00101\n",
    "Ba-130 |.00106\n"
   ]
  },
  {
   "cell_type": "markdown",
   "metadata": {},
   "source": [
    "### Definitions\n",
    "\n",
    "1 Currie(Ci) = $3.7x10^{10}$ decays/sec = $3.7x10^{10}$ (Bq) (Activity)<br>\n",
    "1 decay/sec = becquerel (Bq)<br>\n",
    "$\\lambda$ = decay constant $s^{-1}$ which is specific to each radioactive species<br>\n",
    "Number of atoms in 1Ci: $\\frac{3.7x10^{10}}{\\lambda}$=N <br>\n",
    "Half life of barium-133 = 10.53yr = 332074080sec (varies .03 yrs depending where you look) <br>\n",
    "Avagadros number = $6.022x10^{23} \\frac{atoms}{mol}$<br>\n",
    "Exempt activity limits: $10\\mu Ci$"
   ]
  },
  {
   "cell_type": "markdown",
   "metadata": {},
   "source": [
    "### Derivation of barium-133 decay constant\n",
    "\n",
    "$ \\frac{dN}{dt} = -\\lambda N$<br>\n",
    "$N = N_oe^{-\\lambda t}$<br>\n",
    "$\\frac{N}{N_o} = \\frac{1}{2} = e^{-\\lambda*t}$<br>\n",
    "$\\lambda = log(2)/3.3x10^8s = 2.087x10^{-9}/s$<br>\n"
   ]
  },
  {
   "cell_type": "markdown",
   "metadata": {},
   "source": [
    "### Grams of barium-133 in a mCi\n",
    "\n",
    "$N = \\frac{3x10^7 decay/sec}{2.087x10^{-9}sec^{-1}} = 1.437x10^{16} atoms$<br><br>\n",
    "$\\frac{133g}{mol}*\\frac{mol}{6.022x10^{23}atoms}*1.437x10^{16}atoms = 3.17\\mu g$\n"
   ]
  },
  {
   "cell_type": "markdown",
   "metadata": {},
   "source": [
    "### Specific Activity of Pure Ba-133\n",
    "\n",
    "$\\large{Specific \\ Activity [\\frac{Ci}{g}] = [\\frac{N_Aln2}{m[amu]T_{1/2}[s]}} \\times \\frac{1 Ci}{3.7\\times10^{10}Bq}] $\n",
    "\n",
    "where $N_A$ is Avagadros number.\n",
    "\n",
    "For barium-133 the maximum specific activity is:\n",
    "\n",
    "$\\large{Specific \\ Activity [\\frac{Ci}{g}] = [\\frac{6.022\\times10^{23}ln2}{133\\times 3.32\\times10^8}} \\times \\frac{1 Ci}{3.7\\times10^{10}Bq}] = 255.4$\n",
    "\n"
   ]
  },
  {
   "cell_type": "markdown",
   "metadata": {},
   "source": [
    "### Minimum Pt Impregnation\n",
    "\n",
    "Measured efficiency at ~ $5x10^{-7}$ <br>\n",
    "Signal to noise at mass 134 ~ 65<br>\n",
    "The natural abundance of ba-134 is ~ 2.4%. I expect this means we could resolve 133 at an enrichment of 1%. Assuming similar rates for our high resolution mass spectra which for ba-134 is .35 counts/s:<br><br>\n",
    "Minimum Rate = $ .175\\frac{counts}{s}*\\frac{1}{5x10^{-7}} = 3.5x10^5\\frac{atoms}{s}$<br><br>\n",
    "To run for a week straight we need N ba-133 atoms:<br><br>\n",
    "$N = 3.5x10^5\\frac{atoms}{s}*\\frac{604800sec}{week} = 2.11x10^{11}atoms$<br>,<br>\n",
    "$\\frac{133g}{mol}*\\frac{mol}{6.022x10^{23}atoms}*2.11x10^{11}atoms = 4.67x10^{-11}g = .0467ng$<br><br>\n",
    "Asssuming 1% enrichment we need ~ 4ng of barium impregnated on the platinum. Next calculate how much BaCl2 this is:<br><br>\n",
    "If we have N Ba atoms we need 2N Cl atoms (N Ba atoms is N ba-133*100 for 1% enrichment):<br><br>\n",
    "$\\frac{35.45g}{mol}*\\frac{mol}{6.022x10^{23}atoms}*100*2*2.11x10^{11} \\ atoms = 2.5x10^{-9}g = 2.5ng $<br><br>\n",
    "<b>(Need 6.5ng of BaCl2 \"impregnated\" on the platinum)</b>\n",
    "<br><br>\n",
    "Activity of N barium-133 atoms $ 2.11x10^{11}*2.807x10-9s^{-1} = 441.8 Bq = 14.7nCi$\n",
    "\n"
   ]
  },
  {
   "cell_type": "code",
   "execution_count": 3,
   "metadata": {
    "collapsed": false
   },
   "outputs": [
    {
     "name": "stdout",
     "output_type": "stream",
     "text": [
      "half life = 332074080.0s\n",
      "decay constant = 2.08732696198e-09/s\n",
      "Number of atoms in mCi 1.43724488527e+16\n",
      "grams in a mCi of barium133 3.17425389806e-06(g)\n",
      "minimum rate 350000.0\n",
      "seconds in week 604800.0\n",
      "total atoms 2.1168e+11\n",
      "minimum grams of 133 4.67509797409e-11\n",
      "total cl2 2.4985410827e-11\n",
      "minimum activity 1.47281790438e-08\n",
      "Max Specific Activity : 255.433508739\n"
     ]
    }
   ],
   "source": [
    "# Calculations\n",
    "\n",
    "# Half life of barium years to seconds\n",
    "hl = 10.53*3600*24*365\n",
    "print 'half life = '+str(hl) + 's'\n",
    "\n",
    "# Calculation of decay constant\n",
    "decay = np.log(2)/hl\n",
    "print 'decay constant = ' +str(np.log(2)/hl) + '/s'\n",
    "\n",
    "# Atoms in a mCi of ba-133\n",
    "N = 3e7/decay\n",
    "print 'Number of atoms in mCi ' +str(N) \n",
    "\n",
    "# grams for N atoms\n",
    "grams = 133*N/6.022e23\n",
    "print 'grams in a mCi of barium133 ' +str(grams)+'(g)'\n",
    "\n",
    "# Minimum Pt impregnation\n",
    "minrate = .175*2e6\n",
    "print 'minimum rate ' + str(minrate)\n",
    "secondsInWeek = 3600*24*7.\n",
    "print 'seconds in week ' +str(secondsInWeek)\n",
    "\n",
    "tot133 = minrate*secondsInWeek\n",
    "print 'total atoms ' +str(tot133)\n",
    "\n",
    "# grams of barium 133 for minimum detection\n",
    "g133 = 133*tot133/6.022e23\n",
    "print 'minimum grams of 133 ' + str(g133)\n",
    "\n",
    "# Total Cl2 mass\n",
    "totcl2 = 35.54*2*tot133/6.022e23\n",
    "print 'total cl2 ' +str(totcl2)\n",
    "\n",
    "# Activity of minimum sample\n",
    "act = tot133*decay/3e10\n",
    "print 'minimum activity ' +str(act)\n",
    "\n",
    "# Max Specific Activity of 133\n",
    "sa = np.log(2)*6.022e23/133/hl/3.7e10\n",
    "print 'Max Specific Activity :', sa"
   ]
  },
  {
   "cell_type": "markdown",
   "metadata": {
    "collapsed": true
   },
   "source": []
  },
  {
   "cell_type": "code",
   "execution_count": 4,
   "metadata": {
    "collapsed": false
   },
   "outputs": [
    {
     "data": {
      "text/plain": [
       "0.026233359436178542"
      ]
     },
     "execution_count": 4,
     "metadata": {},
     "output_type": "execute_result"
    }
   ],
   "source": [
    "6.7/255.4"
   ]
  }
 ],
 "metadata": {
  "anaconda-cloud": {},
  "kernelspec": {
   "display_name": "Python [Root]",
   "language": "python",
   "name": "Python [Root]"
  },
  "language_info": {
   "codemirror_mode": {
    "name": "ipython",
    "version": 2
   },
   "file_extension": ".py",
   "mimetype": "text/x-python",
   "name": "python",
   "nbconvert_exporter": "python",
   "pygments_lexer": "ipython2",
   "version": "2.7.12"
  }
 },
 "nbformat": 4,
 "nbformat_minor": 0
}
