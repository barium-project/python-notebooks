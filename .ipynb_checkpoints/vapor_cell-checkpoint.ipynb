{
 "cells": [
  {
   "cell_type": "code",
   "execution_count": 17,
   "metadata": {},
   "outputs": [
    {
     "name": "stdout",
     "output_type": "stream",
     "text": [
      "[4.88131188e-07 4.50824508e-07]\n",
      "[4.11545058e-07 4.15064965e-07 3.87778790e-07]\n",
      "[2.32819806e-07]\n",
      "[2.34048316e-07 2.29727420e-07]\n",
      "[4.28038129e-06]\n",
      "[4.73756504e-06 4.31620363e-06]\n",
      "1.2352365478e-07\n"
     ]
    }
   ],
   "source": [
    "# vapor cell \n",
    "\n",
    "# Two photon Doppler free spectroscopy\n",
    "# Energy levels, I hate wave numbers\n",
    "\n",
    "# We care about transitions from the 6p 1/2 and 3/2 states to the 7S or 6d\n",
    "# since a two photon transition requires the same parity between final states\n",
    "\n",
    "c = 2.99e8\n",
    "D5_52 = 5674.8*3e10\n",
    "D5_32 = 4873.85*3e10\n",
    "P6_12 = 607.426e12\n",
    "P6_32 = 658.115e12\n",
    "S7_12 = 42355.175*3e10\n",
    "D6_32 = 45949.472*3e10\n",
    "D6_52 = 46154.847*3e10\n",
    "F4_72 = 48483.3*3e10\n",
    "F4_52 = 48258.6*3e10\n",
    "cont = 80686.3*3e10\n",
    "\n",
    "s_to_p = S7_12 - np.array([P6_32, P6_12])\n",
    "d_to_p = np.array([D6_52-P6_32,D6_32-P6_32,D6_32-P6_12])\n",
    "f72_to_5d52 = np.array([F4_72 - D5_52])\n",
    "f52_to_5d = np.array([F4_52 - D5_52,F4_52 - D5_32])\n",
    "\n",
    "f72_to_6d52 = np.array([F4_72 - D6_52])\n",
    "f52_to_6d = np.array([F4_52 - D6_52,F4_52 - D6_32])\n",
    "\n",
    "print c/s_to_p\n",
    "print c/d_to_p\n",
    "print c/f72_to_d52\n",
    "print c/f52_to_5d\n",
    "print c/f72_to_6d52\n",
    "print c/f52_to_6d\n",
    "print c/cont"
   ]
  },
  {
   "cell_type": "markdown",
   "metadata": {},
   "source": [
    "$7S_{1/2}\\leftrightarrow 6P_{3/2} = 488 $nm\n",
    "\n",
    "$7S_{1/2}\\leftrightarrow 6P_{1/2} = 450 $nm\n",
    "\n",
    "$6D_{5/2}\\leftrightarrow 6P_{3/2} = 411 $nm\n",
    "\n",
    "$6D_{3/2}\\leftrightarrow 6P_{3/2} = 415 $nm\n",
    "\n",
    "$6D_{3/2}\\leftrightarrow 6P_{1/2} = 387 $nm"
   ]
  },
  {
   "cell_type": "markdown",
   "metadata": {},
   "source": [
    "At what density do space charge effects start to matter? I guess if I have two ions infinitely far apart, each with kinetic energy KE, how close to they have to get to convert all that to poentenial energy?\n",
    "\n",
    "$\\Large U_0 = {qV} = \\frac{q^2}{4\\pi\\epsilon_0 r}$\n",
    "\n",
    "$\\Large r = \\frac{q^2}{4\\pi\\epsilon_0 U_0}$\n",
    "\n",
    "Or, assume the cell is a sphere with some uniform internal charge density $\\rho$. What does that density have to be such that an ion desorbing from the surface with mean energy $\\frac{3}{2}k_BT$ immediately turns around?\n",
    "\n",
    "$\\Large \\frac{3}{2}k_BT = qV$\n",
    "\n",
    "$\\Large V = \\frac{\\rho \\frac{4}{3}\\pi R^3}{4\\pi\\epsilon_0 R}$\n",
    "\n",
    "$\\Large \\rho = \\frac{9k_BT\\epsilon_0}{qR^2}$"
   ]
  },
  {
   "cell_type": "code",
   "execution_count": 1,
   "metadata": {
    "scrolled": false
   },
   "outputs": [
    {
     "name": "stdout",
     "output_type": "stream",
     "text": [
      "v RMS Ba-133:  399.0\n",
      "7.04081473331e+17\n",
      "8495.30588698\n"
     ]
    }
   ],
   "source": [
    "rcParams['axes.linewidth'] = 4\n",
    "rcParams[\"figure.figsize\"] = 15, 10\n",
    "# Lets solve for r\n",
    "\n",
    "charge = 1.609e-19\n",
    "m = 1.66e-27*133\n",
    "epsilon = 8.854e-12\n",
    "\n",
    "# maxwell-boltzman dist \n",
    "T = 1000 #K\n",
    "kb = 1.38e-23\n",
    "v = np.linspace(0,1000,1000)\n",
    "f = 4*np.pi*v**2*(m/2/np.pi/kb/T)**(3./2)*np.exp(-m*v**2/2/kb/T)\n",
    "\n",
    "v_rms = np.sqrt(8*kb*T/np.pi/m)\n",
    "print 'v RMS Ba-133: ', '{:.1f}'.format(v_rms)\n",
    "\n",
    "U_0 = 1.5*kb*T#2*.5*m*v_rms**2 \n",
    "r = charge**2/4/np.pi/epsilon/U_0\n",
    "print 1./(r*100)**3\n",
    "\n",
    "# Lets say our cell has a 5 cm diameter\n",
    "R = 5.e-2\n",
    "#charge density per m^3\n",
    "rho = 9*kb*T*epsilon/charge/R**2/2\n",
    "# number density per cm^2\n",
    "rho = rho/1.e6/charge\n",
    "print rho"
   ]
  },
  {
   "cell_type": "code",
   "execution_count": 21,
   "metadata": {},
   "outputs": [
    {
     "name": "stdout",
     "output_type": "stream",
     "text": [
      "45488.47862793127\n",
      "Charge density Heat Waves Cathode:  1.372e+11\n",
      "1.132335562908435\n",
      "6.832329749351885e-12\n",
      "1.066584099938364\n"
     ]
    }
   ],
   "source": [
    "# What about using a Heat Waves Source?\n",
    "\n",
    "#1-10 mA/cm^2 What's the density? Assume v_rms\n",
    "charge = 1.602e-19\n",
    "I = 1.0e-3\n",
    "m = 1.66e-27*133\n",
    "epsilon = 8.854e-12\n",
    "\n",
    "# maxwell-boltzman dist \n",
    "T = 1300 #K\n",
    "kb = 1.38e-23\n",
    "\n",
    "v_rms = np.sqrt(8*kb*T/np.pi/m)*100 #cm/s\n",
    "print v_rms\n",
    "rho = I/charge/v_rms\n",
    "print 'Charge density Heat Waves Cathode: ', '{:.3e}'.format(rho)\n",
    "\n",
    "\n",
    "# That seems high.... What's the scattering cross section and hence the length for an optical depth of 1?\n",
    "\n",
    "doppler_width = 2*np.log(2)*np.sqrt(2*kb*T/m)/2.99792e8*2*np.pi*607.426e12 # rad/s\n",
    "print doppler_width/np.pi/2/1e9\n",
    "sigma = (493.e-9)**2*20e6/doppler_width*1e4\n",
    "print sigma\n",
    "print 1/sigma/rho\n"
   ]
  },
  {
   "cell_type": "code",
   "execution_count": null,
   "metadata": {},
   "outputs": [],
   "source": []
  }
 ],
 "metadata": {
  "kernelspec": {
   "display_name": "Python 2",
   "language": "python",
   "name": "python2"
  },
  "language_info": {
   "codemirror_mode": {
    "name": "ipython",
    "version": 2
   },
   "file_extension": ".py",
   "mimetype": "text/x-python",
   "name": "python",
   "nbconvert_exporter": "python",
   "pygments_lexer": "ipython2",
   "version": "2.7.16"
  }
 },
 "nbformat": 4,
 "nbformat_minor": 2
}
