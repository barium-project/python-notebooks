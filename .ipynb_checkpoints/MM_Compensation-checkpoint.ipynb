{
 "cells": [
  {
   "cell_type": "markdown",
   "metadata": {},
   "source": [
    "We want to start thinking about how to correct for excess micromotion caused by stray DC fields. Haeffner group used a tickle at $\\Omega_{rf} + \\omega_s$ to move the ion with 50 nm of the null. \n",
    "\n",
    "Our first attempt gives optimal compensation with 0.6 V and 0.67 V on the RF rods, and 50 V on the endcaps. I want to make sure the a-parameter hasn't changed the secular frequency to a point where the tickle is to far from resonance. We know that the secular frequency of a radial mode is given by:\n",
    "\n",
    "$\\Large \\omega_\\mathrm{s} = \\beta\\frac{\\Omega_\\mathrm{rf}}{2}$\n",
    "\n",
    "with\n",
    "\n",
    "$\\Large \\beta \\approx \\sqrt{a + \\frac{q^2}{2}}$\n",
    "\n",
    "The Mathiue $a$ and $q$ parameters for our 4-rod trap are given by:\n",
    "\n",
    "$\\Large a_x = \\frac{4eU_0}{m\\omega_{\\mathrm{rf}}^2r_0^2} - \\frac{8eU_{\\mathrm{EC}}}{m\\omega_{\\mathrm{rf}}^2z_0^2}$\n",
    "\n",
    "$\\Large a_y = -\\bigg(\\frac{4eU_0}{m\\omega_{\\mathrm{rf}}^2r_0^2} + \\frac{8eU_{\\mathrm{EC}}}{m\\omega_{\\mathrm{rf}}^2z_0^2}\\bigg)$\n",
    "\n",
    "$\\Large q_x = \\frac{2eV_0}{m\\omega_{\\mathrm{rf}}^2r_0^2} = -q_y$\n",
    "\n",
    "Since there is no RF applied in the z-direction, endcap voltages provide a static 1D harmonic osicllator trapping potential with secular frequency:\n",
    "\n",
    "$\\Large \\omega_z = 2\\sqrt{\\frac{eU_{\\mathrm{EC}}}{mz_0^2}}$\n",
    "\n",
    "with $z_0$ a characteristic distance defining an ideal static axial quadrupole.\n",
    "\n",
    "Since we have measured the axial secular frequency at a given endcap voltage, we can calculate $z_0$, and therefore estimate $a_x$ and $a_y$ to determine how much we expect our secular frequency to shift for a given DC voltage on the trap rods."
   ]
  },
  {
   "cell_type": "code",
   "execution_count": 33,
   "metadata": {},
   "outputs": [
    {
     "name": "stdout",
     "output_type": "stream",
     "text": [
      "Characterstiz z : 0.11 mm\n",
      "ax : -0.008\n",
      "ay : -0.018\n",
      "qx : 0.408\n",
      "beta x : 0.275\n",
      "beta y : 0.256\n",
      "omega x : 137.399 kHz\n",
      "omega y : 128.171 kHz\n"
     ]
    }
   ],
   "source": [
    "omega_rf = 2*np.pi*1.e6\n",
    "U_dc = .6\n",
    "U_ec = .001\n",
    "r_0 = 3.0e-3\n",
    "charge = 1.602e-19\n",
    "m = 133*1.66e-27\n",
    "V_rf = 100.0\n",
    "omega_z = 2*np.pi*80.e3\n",
    "\n",
    "\n",
    "# First calculate characteristic z0\n",
    "\n",
    "z_0 = np.sqrt(charge*U_ec/m)*2/omega_z\n",
    "\n",
    "print 'Characterstiz z :', '{:.2f}'.format(z_0*1e3), 'mm'\n",
    "\n",
    "ax = 4*charge*U_dc/m/omega_rf**2/r_0**2 - 8*charge*U_ec/m/omega_rf**2/z_0**2\n",
    "ay = -(4*charge*U_dc/m/omega_rf**2/r_0**2 + 8*charge*U_ec/m/omega_rf**2/z_0**2)\n",
    "qx = 2*charge*V_rf/m/omega_rf**2/r_0**2\n",
    "\n",
    "print 'ax :', '{:.3f}'.format(ax)\n",
    "print 'ay :', '{:.3f}'.format(ay)\n",
    "print 'qx :', '{:.3f}'.format(qx)\n",
    "\n",
    "## Now we can calculate our secular frequencies\n",
    "bx = np.sqrt(ax + qx**2/2)\n",
    "by  = np.sqrt(ay + qx**2/2)\n",
    "\n",
    "print 'beta x :', '{:.3f}'.format(bx)\n",
    "print 'beta y :', '{:.3f}'.format(by)\n",
    "\n",
    "\n",
    "omega_x = omega_rf*bx/2/2/np.pi\n",
    "omega_y = omega_rf*by/2/2/np.pi\n",
    "\n",
    "print 'omega x :', '{:.3f}'.format(omega_x*1e-3), 'kHz'\n",
    "print 'omega y :', '{:.3f}'.format(omega_y*1e-3), 'kHz'\n",
    "\n",
    "\n"
   ]
  },
  {
   "cell_type": "code",
   "execution_count": null,
   "metadata": {},
   "outputs": [],
   "source": []
  },
  {
   "cell_type": "code",
   "execution_count": null,
   "metadata": {},
   "outputs": [],
   "source": []
  },
  {
   "cell_type": "code",
   "execution_count": null,
   "metadata": {},
   "outputs": [],
   "source": []
  },
  {
   "cell_type": "code",
   "execution_count": null,
   "metadata": {},
   "outputs": [],
   "source": []
  }
 ],
 "metadata": {
  "kernelspec": {
   "display_name": "Python 2",
   "language": "python",
   "name": "python2"
  },
  "language_info": {
   "codemirror_mode": {
    "name": "ipython",
    "version": 2
   },
   "file_extension": ".py",
   "mimetype": "text/x-python",
   "name": "python",
   "nbconvert_exporter": "python",
   "pygments_lexer": "ipython2",
   "version": "2.7.16"
  }
 },
 "nbformat": 4,
 "nbformat_minor": 2
}
