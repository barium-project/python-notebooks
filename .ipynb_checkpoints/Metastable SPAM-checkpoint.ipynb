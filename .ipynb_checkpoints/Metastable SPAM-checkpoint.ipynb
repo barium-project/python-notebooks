{
 "cells": [
  {
   "cell_type": "markdown",
   "metadata": {},
   "source": [
    "### Metastable SPAM estimates "
   ]
  },
  {
   "cell_type": "code",
   "execution_count": 11,
   "metadata": {},
   "outputs": [
    {
     "name": "stdout",
     "output_type": "stream",
     "text": [
      "7.833648844723577\n",
      "1.7857295959534633e-06\n",
      "0.000388110491384\n",
      "0.003442887621323526\n"
     ]
    }
   ],
   "source": [
    "# First number of scattered photons required to reduce population to 10^-5\n",
    "\n",
    "N = -5./np.log10(0.23)\n",
    "print N\n",
    "\n",
    "# if the saturation parmaeter is 0.1, how long would that take for a two level system with P32 excited state linewidth?\n",
    "s = 0.1\n",
    "gamma = 25.6e6\n",
    "delta1 = 715.e6\n",
    "delta2 = 625.e6\n",
    "degen1 = 3./5\n",
    "b_frac = 0.75\n",
    "\n",
    "t_ds =(1+s)*N/np.pi/gamma/s/degen\n",
    "\n",
    "print t_ds\n",
    "\n",
    "# if we're in the D5/2;F=3, what is the probability of scattering a photon in that time?\n",
    "# First calculate leak rate out/time to scatter one photon\n",
    "\n",
    "leak_t  = (1+s+4*(delta1/gamma)**2)/np.pi/gamma/s\n",
    "print leak_t\n",
    "\n",
    "# probability to scatter a photon is 1-p(0), where p(0) is prob to scatter zero photons, give\n",
    "# by Poisson function\n",
    "\n",
    "p_leak = (1- np.exp(-t_ds/leak_t))*b_frac\n",
    "\n",
    "print p_leak\n"
   ]
  },
  {
   "cell_type": "code",
   "execution_count": null,
   "metadata": {},
   "outputs": [],
   "source": []
  }
 ],
 "metadata": {
  "kernelspec": {
   "display_name": "Python 2",
   "language": "python",
   "name": "python2"
  },
  "language_info": {
   "codemirror_mode": {
    "name": "ipython",
    "version": 2
   },
   "file_extension": ".py",
   "mimetype": "text/x-python",
   "name": "python",
   "nbconvert_exporter": "python",
   "pygments_lexer": "ipython2",
   "version": "2.7.16"
  }
 },
 "nbformat": 4,
 "nbformat_minor": 2
}
